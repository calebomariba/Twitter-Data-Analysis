{
 "cells": [
  {
   "cell_type": "code",
   "execution_count": null,
   "metadata": {},
   "outputs": [
    {
     "name": "stdout",
     "output_type": "stream",
     "text": [
      "Defaulting to user installation because normal site-packages is not writeable\n",
      "Requirement already satisfied: textblob in c:\\users\\user\\appdata\\roaming\\python\\python310\\site-packages (0.17.1)\n",
      "Requirement already satisfied: nltk>=3.1 in c:\\users\\user\\appdata\\roaming\\python\\python310\\site-packages (from textblob) (3.7)\n",
      "Requirement already satisfied: joblib in c:\\users\\user\\appdata\\roaming\\python\\python310\\site-packages (from nltk>=3.1->textblob) (1.1.0)\n",
      "Requirement already satisfied: tqdm in c:\\users\\user\\appdata\\roaming\\python\\python310\\site-packages (from nltk>=3.1->textblob) (4.64.0)\n",
      "Requirement already satisfied: click in c:\\users\\user\\appdata\\roaming\\python\\python310\\site-packages (from nltk>=3.1->textblob) (8.0.4)\n",
      "Requirement already satisfied: regex>=2021.8.3 in c:\\users\\user\\appdata\\roaming\\python\\python310\\site-packages (from nltk>=3.1->textblob) (2022.4.24)\n",
      "Requirement already satisfied: colorama in c:\\users\\user\\appdata\\roaming\\python\\python310\\site-packages (from click->nltk>=3.1->textblob) (0.4.4)\n"
     ]
    },
    {
     "name": "stderr",
     "output_type": "stream",
     "text": [
      "WARNING: You are using pip version 21.2.4; however, version 22.0.4 is available.\n",
      "You should consider upgrading via the 'C:\\Program Files\\Python310\\python.exe -m pip install --upgrade pip' command.\n"
     ]
    }
   ],
   "source": [
    "!pip install textblob\n",
    "!python -m pip install --upgrade pip"
   ]
  },
  {
   "cell_type": "code",
   "execution_count": 43,
   "metadata": {
    "id": "CTUmMBAOyt-g"
   },
   "outputs": [],
   "source": [
    "import warnings\n",
    "warnings.filterwarnings('ignore')\n",
    "import matplotlib.pyplot as plt\n",
    "import seaborn as sns\n",
    "import pandas as pd\n",
    "import statistics\n",
    "import string\n",
    "import os\n",
    "import re"
   ]
  },
  {
   "cell_type": "code",
   "execution_count": 44,
   "metadata": {
    "colab": {
     "base_uri": "https://localhost:8080/",
     "height": 445
    },
    "id": "YmMqPQNy3s4Q",
    "outputId": "a0bb1e10-694b-4295-9722-679feb6a860b"
   },
   "outputs": [
    {
     "data": {
      "text/html": [
       "<div>\n",
       "<style scoped>\n",
       "    .dataframe tbody tr th:only-of-type {\n",
       "        vertical-align: middle;\n",
       "    }\n",
       "\n",
       "    .dataframe tbody tr th {\n",
       "        vertical-align: top;\n",
       "    }\n",
       "\n",
       "    .dataframe thead th {\n",
       "        text-align: right;\n",
       "    }\n",
       "</style>\n",
       "<table border=\"1\" class=\"dataframe\">\n",
       "  <thead>\n",
       "    <tr style=\"text-align: right;\">\n",
       "      <th></th>\n",
       "      <th>created_at</th>\n",
       "      <th>source</th>\n",
       "      <th>original_text</th>\n",
       "      <th>lang</th>\n",
       "      <th>favorite_count</th>\n",
       "      <th>retweet_count</th>\n",
       "      <th>original_author</th>\n",
       "      <th>followers_count</th>\n",
       "      <th>friends_count</th>\n",
       "      <th>possibly_sensitive</th>\n",
       "      <th>hashtags</th>\n",
       "      <th>user_mentions</th>\n",
       "      <th>place</th>\n",
       "    </tr>\n",
       "  </thead>\n",
       "  <tbody>\n",
       "    <tr>\n",
       "      <th>0</th>\n",
       "      <td>Fri Apr 22 22:20:18 +0000 2022</td>\n",
       "      <td>&lt;a href=\"http://twitter.com/download/android\" ...</td>\n",
       "      <td>RT @nikitheblogger: Irre: Annalena Baerbock sa...</td>\n",
       "      <td>de</td>\n",
       "      <td>2356</td>\n",
       "      <td>355</td>\n",
       "      <td>McMc74078966</td>\n",
       "      <td>3</td>\n",
       "      <td>12</td>\n",
       "      <td>None</td>\n",
       "      <td>[]</td>\n",
       "      <td>nikitheblogger</td>\n",
       "      <td></td>\n",
       "    </tr>\n",
       "    <tr>\n",
       "      <th>1</th>\n",
       "      <td>Fri Apr 22 22:19:16 +0000 2022</td>\n",
       "      <td>&lt;a href=\"http://twitter.com/download/android\" ...</td>\n",
       "      <td>RT @sagt_mit: Merkel schaffte es in 1 Jahr 1 M...</td>\n",
       "      <td>de</td>\n",
       "      <td>1985</td>\n",
       "      <td>505</td>\n",
       "      <td>McMc74078966</td>\n",
       "      <td>3</td>\n",
       "      <td>12</td>\n",
       "      <td>None</td>\n",
       "      <td>[]</td>\n",
       "      <td>sagt_mit</td>\n",
       "      <td></td>\n",
       "    </tr>\n",
       "    <tr>\n",
       "      <th>2</th>\n",
       "      <td>Fri Apr 22 22:17:28 +0000 2022</td>\n",
       "      <td>&lt;a href=\"http://twitter.com/download/android\" ...</td>\n",
       "      <td>RT @Kryptonoun: @WRi007 Pharma in Lebensmittel...</td>\n",
       "      <td>de</td>\n",
       "      <td>16</td>\n",
       "      <td>4</td>\n",
       "      <td>McMc74078966</td>\n",
       "      <td>3</td>\n",
       "      <td>12</td>\n",
       "      <td>None</td>\n",
       "      <td>[]</td>\n",
       "      <td>Kryptonoun, WRi007</td>\n",
       "      <td></td>\n",
       "    </tr>\n",
       "    <tr>\n",
       "      <th>3</th>\n",
       "      <td>Fri Apr 22 22:17:20 +0000 2022</td>\n",
       "      <td>&lt;a href=\"http://twitter.com/download/android\" ...</td>\n",
       "      <td>RT @WRi007: Die #Deutschen sind ein braves Vol...</td>\n",
       "      <td>de</td>\n",
       "      <td>1242</td>\n",
       "      <td>332</td>\n",
       "      <td>McMc74078966</td>\n",
       "      <td>3</td>\n",
       "      <td>12</td>\n",
       "      <td>None</td>\n",
       "      <td>[{'text': 'Deutschen', 'indices': [16, 26]}, {...</td>\n",
       "      <td>WRi007</td>\n",
       "      <td></td>\n",
       "    </tr>\n",
       "    <tr>\n",
       "      <th>4</th>\n",
       "      <td>Fri Apr 22 22:13:15 +0000 2022</td>\n",
       "      <td>&lt;a href=\"http://twitter.com/download/android\" ...</td>\n",
       "      <td>RT @RolandTichy: Baerbock verkündet mal so neb...</td>\n",
       "      <td>de</td>\n",
       "      <td>1329</td>\n",
       "      <td>386</td>\n",
       "      <td>McMc74078966</td>\n",
       "      <td>3</td>\n",
       "      <td>12</td>\n",
       "      <td>None</td>\n",
       "      <td>[]</td>\n",
       "      <td>RolandTichy</td>\n",
       "      <td></td>\n",
       "    </tr>\n",
       "  </tbody>\n",
       "</table>\n",
       "</div>"
      ],
      "text/plain": [
       "                       created_at  \\\n",
       "0  Fri Apr 22 22:20:18 +0000 2022   \n",
       "1  Fri Apr 22 22:19:16 +0000 2022   \n",
       "2  Fri Apr 22 22:17:28 +0000 2022   \n",
       "3  Fri Apr 22 22:17:20 +0000 2022   \n",
       "4  Fri Apr 22 22:13:15 +0000 2022   \n",
       "\n",
       "                                              source  \\\n",
       "0  <a href=\"http://twitter.com/download/android\" ...   \n",
       "1  <a href=\"http://twitter.com/download/android\" ...   \n",
       "2  <a href=\"http://twitter.com/download/android\" ...   \n",
       "3  <a href=\"http://twitter.com/download/android\" ...   \n",
       "4  <a href=\"http://twitter.com/download/android\" ...   \n",
       "\n",
       "                                       original_text lang  favorite_count  \\\n",
       "0  RT @nikitheblogger: Irre: Annalena Baerbock sa...   de            2356   \n",
       "1  RT @sagt_mit: Merkel schaffte es in 1 Jahr 1 M...   de            1985   \n",
       "2  RT @Kryptonoun: @WRi007 Pharma in Lebensmittel...   de              16   \n",
       "3  RT @WRi007: Die #Deutschen sind ein braves Vol...   de            1242   \n",
       "4  RT @RolandTichy: Baerbock verkündet mal so neb...   de            1329   \n",
       "\n",
       "   retweet_count original_author  followers_count  friends_count  \\\n",
       "0            355    McMc74078966                3             12   \n",
       "1            505    McMc74078966                3             12   \n",
       "2              4    McMc74078966                3             12   \n",
       "3            332    McMc74078966                3             12   \n",
       "4            386    McMc74078966                3             12   \n",
       "\n",
       "  possibly_sensitive                                           hashtags  \\\n",
       "0               None                                                 []   \n",
       "1               None                                                 []   \n",
       "2               None                                                 []   \n",
       "3               None  [{'text': 'Deutschen', 'indices': [16, 26]}, {...   \n",
       "4               None                                                 []   \n",
       "\n",
       "        user_mentions place  \n",
       "0      nikitheblogger        \n",
       "1            sagt_mit        \n",
       "2  Kryptonoun, WRi007        \n",
       "3              WRi007        \n",
       "4         RolandTichy        "
      ]
     },
     "execution_count": 44,
     "metadata": {},
     "output_type": "execute_result"
    }
   ],
   "source": [
    "#To read csv file and create dataframe\n",
    "from extract_data_frame import TweetExtractor,read_json\n",
    "\n",
    "\n",
    "#To read csv file and create dataframe\n",
    "tweets_list = read_json(\"data/Economic_Twitter_Data.json\")\n",
    "tweets_ = TweetExtractor(tweets_list)\n",
    "tweets = tweets_.get_tweet_df(save=False)\n",
    "tweets.dropna()\n",
    "tweets.head()"
   ]
  },
  {
   "cell_type": "code",
   "execution_count": 26,
   "metadata": {
    "colab": {
     "base_uri": "https://localhost:8080/"
    },
    "id": "5631qn4c5ODQ",
    "outputId": "45e53ab9-27be-4b06-a0c1-218c8262e839"
   },
   "outputs": [
    {
     "name": "stdout",
     "output_type": "stream",
     "text": [
      "<class 'pandas.core.frame.DataFrame'>\n",
      "RangeIndex: 24625 entries, 0 to 24624\n",
      "Data columns (total 13 columns):\n",
      " #   Column              Non-Null Count  Dtype \n",
      "---  ------              --------------  ----- \n",
      " 0   created_at          24625 non-null  object\n",
      " 1   source              24625 non-null  object\n",
      " 2   original_text       24625 non-null  object\n",
      " 3   lang                24625 non-null  object\n",
      " 4   favorite_count      24625 non-null  int64 \n",
      " 5   retweet_count       24625 non-null  int64 \n",
      " 6   original_author     24625 non-null  object\n",
      " 7   followers_count     24625 non-null  int64 \n",
      " 8   friends_count       24625 non-null  int64 \n",
      " 9   possibly_sensitive  9975 non-null   object\n",
      " 10  hashtags            24625 non-null  object\n",
      " 11  user_mentions       24625 non-null  object\n",
      " 12  place               24625 non-null  object\n",
      "dtypes: int64(4), object(9)\n",
      "memory usage: 2.4+ MB\n"
     ]
    }
   ],
   "source": [
    "#To get information abou the data\n",
    "tweets.info()\n"
   ]
  },
  {
   "cell_type": "code",
   "execution_count": 27,
   "metadata": {
    "colab": {
     "base_uri": "https://localhost:8080/"
    },
    "id": "DvdZBvD56oVL",
    "outputId": "c33ff135-87cd-41d0-9649-e6270eddbad5"
   },
   "outputs": [
    {
     "name": "stdout",
     "output_type": "stream",
     "text": [
      "The number of missing value(s): 14650\n",
      "Columons having columns value:Index(['possibly_sensitive'], dtype='object')\n"
     ]
    }
   ],
   "source": [
    "print(\"The number of missing value(s): {}\".format(tweets.isnull().sum().sum()))\n",
    "print(\"Columons having columns value:{}\".format(tweets.columns[tweets.isnull().any()]))"
   ]
  },
  {
   "cell_type": "code",
   "execution_count": 28,
   "metadata": {
    "id": "pH-jlxFBifkJ"
   },
   "outputs": [],
   "source": [
    "tweets_df = pd.DataFrame(columns=['original_text'])\n",
    "\n",
    "tweets_df['original_text'] =  tweets['original_text'].to_list()\n"
   ]
  },
  {
   "cell_type": "code",
   "execution_count": 29,
   "metadata": {
    "colab": {
     "base_uri": "https://localhost:8080/",
     "height": 419
    },
    "id": "3Pg9jv04I5Gd",
    "outputId": "f504fdad-37d5-482b-d481-c9eadb28ef23"
   },
   "outputs": [
    {
     "data": {
      "text/html": [
       "<div>\n",
       "<style scoped>\n",
       "    .dataframe tbody tr th:only-of-type {\n",
       "        vertical-align: middle;\n",
       "    }\n",
       "\n",
       "    .dataframe tbody tr th {\n",
       "        vertical-align: top;\n",
       "    }\n",
       "\n",
       "    .dataframe thead th {\n",
       "        text-align: right;\n",
       "    }\n",
       "</style>\n",
       "<table border=\"1\" class=\"dataframe\">\n",
       "  <thead>\n",
       "    <tr style=\"text-align: right;\">\n",
       "      <th></th>\n",
       "      <th>original_text</th>\n",
       "    </tr>\n",
       "  </thead>\n",
       "  <tbody>\n",
       "    <tr>\n",
       "      <th>0</th>\n",
       "      <td>RT @nikitheblogger: Irre: Annalena Baerbock sa...</td>\n",
       "    </tr>\n",
       "    <tr>\n",
       "      <th>1</th>\n",
       "      <td>RT @sagt_mit: Merkel schaffte es in 1 Jahr 1 M...</td>\n",
       "    </tr>\n",
       "    <tr>\n",
       "      <th>2</th>\n",
       "      <td>RT @Kryptonoun: @WRi007 Pharma in Lebensmittel...</td>\n",
       "    </tr>\n",
       "    <tr>\n",
       "      <th>3</th>\n",
       "      <td>RT @WRi007: Die #Deutschen sind ein braves Vol...</td>\n",
       "    </tr>\n",
       "    <tr>\n",
       "      <th>4</th>\n",
       "      <td>RT @RolandTichy: Baerbock verkündet mal so neb...</td>\n",
       "    </tr>\n",
       "    <tr>\n",
       "      <th>...</th>\n",
       "      <td>...</td>\n",
       "    </tr>\n",
       "    <tr>\n",
       "      <th>24620</th>\n",
       "      <td>RT @waglenikhil: आपल्या घरातल्या कोणत्याही कार...</td>\n",
       "    </tr>\n",
       "    <tr>\n",
       "      <th>24621</th>\n",
       "      <td>RT @yadavtejashwi: चौहरमल नगर, फुलवारी शरीफ मे...</td>\n",
       "    </tr>\n",
       "    <tr>\n",
       "      <th>24622</th>\n",
       "      <td>RT @Parthtiwari25: Gujarat Congress MLA arrest...</td>\n",
       "    </tr>\n",
       "    <tr>\n",
       "      <th>24623</th>\n",
       "      <td>RT @news24tvchannel: CM नीतीश कुमार ने तेजस्वी...</td>\n",
       "    </tr>\n",
       "    <tr>\n",
       "      <th>24624</th>\n",
       "      <td>RT @suvegrathi: भगवान और खुदा आपस में बात कर र...</td>\n",
       "    </tr>\n",
       "  </tbody>\n",
       "</table>\n",
       "<p>24625 rows × 1 columns</p>\n",
       "</div>"
      ],
      "text/plain": [
       "                                           original_text\n",
       "0      RT @nikitheblogger: Irre: Annalena Baerbock sa...\n",
       "1      RT @sagt_mit: Merkel schaffte es in 1 Jahr 1 M...\n",
       "2      RT @Kryptonoun: @WRi007 Pharma in Lebensmittel...\n",
       "3      RT @WRi007: Die #Deutschen sind ein braves Vol...\n",
       "4      RT @RolandTichy: Baerbock verkündet mal so neb...\n",
       "...                                                  ...\n",
       "24620  RT @waglenikhil: आपल्या घरातल्या कोणत्याही कार...\n",
       "24621  RT @yadavtejashwi: चौहरमल नगर, फुलवारी शरीफ मे...\n",
       "24622  RT @Parthtiwari25: Gujarat Congress MLA arrest...\n",
       "24623  RT @news24tvchannel: CM नीतीश कुमार ने तेजस्वी...\n",
       "24624  RT @suvegrathi: भगवान और खुदा आपस में बात कर र...\n",
       "\n",
       "[24625 rows x 1 columns]"
      ]
     },
     "execution_count": 29,
     "metadata": {},
     "output_type": "execute_result"
    }
   ],
   "source": [
    "# drop row having Null value\n",
    "tweets_df.dropna()\n",
    "tweets_df"
   ]
  },
  {
   "cell_type": "code",
   "execution_count": 30,
   "metadata": {
    "id": "b34CBv-AN69A"
   },
   "outputs": [],
   "source": [
    "#Method to find hashtags from tweets\n",
    "def find_hashtags(tweet):\n",
    "    '''This function will extract hashtags'''\n",
    "    return re.findall('(#[A-Za-z]+[A-Za-z0-9-_]+)', tweet)"
   ]
  },
  {
   "cell_type": "code",
   "execution_count": 31,
   "metadata": {
    "colab": {
     "base_uri": "https://localhost:8080/"
    },
    "id": "1GQ-A6hIN7Ax",
    "outputId": "b3de0227-795e-4392-df65-2d1d051ff767"
   },
   "outputs": [
    {
     "name": "stdout",
     "output_type": "stream",
     "text": [
      "0                                                       []\n",
      "1                                                       []\n",
      "2                                                       []\n",
      "3        [#Deutschen, #Spritpreisen, #inflation, #Abgaben]\n",
      "4                                                       []\n",
      "                               ...                        \n",
      "24620                                                   []\n",
      "24621                                                   []\n",
      "24622                                                   []\n",
      "24623                                                   []\n",
      "24624                                      [#IndiaAgainst]\n",
      "Name: hashtags, Length: 24625, dtype: object\n"
     ]
    }
   ],
   "source": [
    "# update Hashtage columon with hashtages extracted from Orignal_text columon\n",
    "tweets_df['hashtags'] = tweets_df.original_text.apply(find_hashtags)\n",
    "print(tweets_df['hashtags'])"
   ]
  },
  {
   "cell_type": "code",
   "execution_count": 32,
   "metadata": {
    "id": "_afmsMPaQxli"
   },
   "outputs": [],
   "source": [
    "# take the rows from the hashtag columns where there are actually hashtags\n",
    "hashtags_list_df = tweets_df.loc[\n",
    "                       tweets_df.hashtags.apply(\n",
    "                           lambda hashtags_list: hashtags_list !=[]\n",
    "                       ),['hashtags']]"
   ]
  },
  {
   "cell_type": "code",
   "execution_count": 33,
   "metadata": {
    "colab": {
     "base_uri": "https://localhost:8080/",
     "height": 419
    },
    "id": "UDQyxDqzQ4lf",
    "outputId": "ae5c17be-72e1-4a24-faca-9b8bef8084dc"
   },
   "outputs": [
    {
     "data": {
      "text/html": [
       "<div>\n",
       "<style scoped>\n",
       "    .dataframe tbody tr th:only-of-type {\n",
       "        vertical-align: middle;\n",
       "    }\n",
       "\n",
       "    .dataframe tbody tr th {\n",
       "        vertical-align: top;\n",
       "    }\n",
       "\n",
       "    .dataframe thead th {\n",
       "        text-align: right;\n",
       "    }\n",
       "</style>\n",
       "<table border=\"1\" class=\"dataframe\">\n",
       "  <thead>\n",
       "    <tr style=\"text-align: right;\">\n",
       "      <th></th>\n",
       "      <th>hashtags</th>\n",
       "    </tr>\n",
       "  </thead>\n",
       "  <tbody>\n",
       "    <tr>\n",
       "      <th>3</th>\n",
       "      <td>[#Deutschen, #Spritpreisen, #inflation, #Abgaben]</td>\n",
       "    </tr>\n",
       "    <tr>\n",
       "      <th>6</th>\n",
       "      <td>[#Baerbock]</td>\n",
       "    </tr>\n",
       "    <tr>\n",
       "      <th>11</th>\n",
       "      <td>[#IchHabeNICHTMitgemacht]</td>\n",
       "    </tr>\n",
       "    <tr>\n",
       "      <th>12</th>\n",
       "      <td>[#Assange]</td>\n",
       "    </tr>\n",
       "    <tr>\n",
       "      <th>15</th>\n",
       "      <td>[#Assange, #Held]</td>\n",
       "    </tr>\n",
       "    <tr>\n",
       "      <th>...</th>\n",
       "      <td>...</td>\n",
       "    </tr>\n",
       "    <tr>\n",
       "      <th>24571</th>\n",
       "      <td>[#PNPKakampiMo, #WeServeAndProtect, #TeamPNP, ...</td>\n",
       "    </tr>\n",
       "    <tr>\n",
       "      <th>24572</th>\n",
       "      <td>[#PNPKakampiMo, #WeServeAndProtect, #TeamPNP, ...</td>\n",
       "    </tr>\n",
       "    <tr>\n",
       "      <th>24574</th>\n",
       "      <td>[#PNPKakampiMo, #WeServeAndProtect, #TeamPNP, ...</td>\n",
       "    </tr>\n",
       "    <tr>\n",
       "      <th>24589</th>\n",
       "      <td>[#AAP, #AAP]</td>\n",
       "    </tr>\n",
       "    <tr>\n",
       "      <th>24624</th>\n",
       "      <td>[#IndiaAgainst]</td>\n",
       "    </tr>\n",
       "  </tbody>\n",
       "</table>\n",
       "<p>8143 rows × 1 columns</p>\n",
       "</div>"
      ],
      "text/plain": [
       "                                                hashtags\n",
       "3      [#Deutschen, #Spritpreisen, #inflation, #Abgaben]\n",
       "6                                            [#Baerbock]\n",
       "11                             [#IchHabeNICHTMitgemacht]\n",
       "12                                            [#Assange]\n",
       "15                                     [#Assange, #Held]\n",
       "...                                                  ...\n",
       "24571  [#PNPKakampiMo, #WeServeAndProtect, #TeamPNP, ...\n",
       "24572  [#PNPKakampiMo, #WeServeAndProtect, #TeamPNP, ...\n",
       "24574  [#PNPKakampiMo, #WeServeAndProtect, #TeamPNP, ...\n",
       "24589                                       [#AAP, #AAP]\n",
       "24624                                    [#IndiaAgainst]\n",
       "\n",
       "[8143 rows x 1 columns]"
      ]
     },
     "execution_count": 33,
     "metadata": {},
     "output_type": "execute_result"
    }
   ],
   "source": [
    "hashtags_list_df"
   ]
  },
  {
   "cell_type": "code",
   "execution_count": 34,
   "metadata": {
    "id": "llnthIkDQMcR"
   },
   "outputs": [],
   "source": [
    " #create dataframe where each use of hashtag gets its own row\n",
    "flattened_hashtags_df = pd.DataFrame(\n",
    "    [hashtag for hashtags_list in hashtags_list_df.hashtags\n",
    "    for hashtag in hashtags_list],\n",
    "    columns=['hashtag'])"
   ]
  },
  {
   "cell_type": "code",
   "execution_count": 35,
   "metadata": {
    "colab": {
     "base_uri": "https://localhost:8080/",
     "height": 423
    },
    "id": "DM0xZ0ctRCi0",
    "outputId": "533de4f9-7c40-46a6-ee8c-4da55fa32092"
   },
   "outputs": [
    {
     "data": {
      "text/html": [
       "<div>\n",
       "<style scoped>\n",
       "    .dataframe tbody tr th:only-of-type {\n",
       "        vertical-align: middle;\n",
       "    }\n",
       "\n",
       "    .dataframe tbody tr th {\n",
       "        vertical-align: top;\n",
       "    }\n",
       "\n",
       "    .dataframe thead th {\n",
       "        text-align: right;\n",
       "    }\n",
       "</style>\n",
       "<table border=\"1\" class=\"dataframe\">\n",
       "  <thead>\n",
       "    <tr style=\"text-align: right;\">\n",
       "      <th></th>\n",
       "      <th>hashtag</th>\n",
       "    </tr>\n",
       "  </thead>\n",
       "  <tbody>\n",
       "    <tr>\n",
       "      <th>0</th>\n",
       "      <td>#Deutschen</td>\n",
       "    </tr>\n",
       "    <tr>\n",
       "      <th>1</th>\n",
       "      <td>#Spritpreisen</td>\n",
       "    </tr>\n",
       "    <tr>\n",
       "      <th>2</th>\n",
       "      <td>#inflation</td>\n",
       "    </tr>\n",
       "    <tr>\n",
       "      <th>3</th>\n",
       "      <td>#Abgaben</td>\n",
       "    </tr>\n",
       "    <tr>\n",
       "      <th>4</th>\n",
       "      <td>#Baerbock</td>\n",
       "    </tr>\n",
       "    <tr>\n",
       "      <th>...</th>\n",
       "      <td>...</td>\n",
       "    </tr>\n",
       "    <tr>\n",
       "      <th>19367</th>\n",
       "      <td>#TeamPNP</td>\n",
       "    </tr>\n",
       "    <tr>\n",
       "      <th>19368</th>\n",
       "      <td>#PCADGWESTERNMINDANAO</td>\n",
       "    </tr>\n",
       "    <tr>\n",
       "      <th>19369</th>\n",
       "      <td>#AAP</td>\n",
       "    </tr>\n",
       "    <tr>\n",
       "      <th>19370</th>\n",
       "      <td>#AAP</td>\n",
       "    </tr>\n",
       "    <tr>\n",
       "      <th>19371</th>\n",
       "      <td>#IndiaAgainst</td>\n",
       "    </tr>\n",
       "  </tbody>\n",
       "</table>\n",
       "<p>19372 rows × 1 columns</p>\n",
       "</div>"
      ],
      "text/plain": [
       "                     hashtag\n",
       "0                 #Deutschen\n",
       "1              #Spritpreisen\n",
       "2                 #inflation\n",
       "3                   #Abgaben\n",
       "4                  #Baerbock\n",
       "...                      ...\n",
       "19367               #TeamPNP\n",
       "19368  #PCADGWESTERNMINDANAO\n",
       "19369                   #AAP\n",
       "19370                   #AAP\n",
       "19371          #IndiaAgainst\n",
       "\n",
       "[19372 rows x 1 columns]"
      ]
     },
     "execution_count": 35,
     "metadata": {},
     "output_type": "execute_result"
    }
   ],
   "source": [
    "flattened_hashtags_df"
   ]
  },
  {
   "cell_type": "code",
   "execution_count": 36,
   "metadata": {
    "id": "TlDf03EXR1Dc"
   },
   "outputs": [],
   "source": [
    "#add flatten_hashtags to tweet_df\n",
    "tweets_df[\"flattened_hashtags\"]= flattened_hashtags_df"
   ]
  },
  {
   "cell_type": "code",
   "execution_count": 37,
   "metadata": {
    "colab": {
     "base_uri": "https://localhost:8080/",
     "height": 1000
    },
    "id": "m6A95xJTbHnq",
    "outputId": "7ffb9b7b-86eb-43b3-95c6-22b9fa4c753d"
   },
   "outputs": [
    {
     "data": {
      "text/html": [
       "<div>\n",
       "<style scoped>\n",
       "    .dataframe tbody tr th:only-of-type {\n",
       "        vertical-align: middle;\n",
       "    }\n",
       "\n",
       "    .dataframe tbody tr th {\n",
       "        vertical-align: top;\n",
       "    }\n",
       "\n",
       "    .dataframe thead th {\n",
       "        text-align: right;\n",
       "    }\n",
       "</style>\n",
       "<table border=\"1\" class=\"dataframe\">\n",
       "  <thead>\n",
       "    <tr style=\"text-align: right;\">\n",
       "      <th></th>\n",
       "      <th>original_text</th>\n",
       "      <th>hashtags</th>\n",
       "      <th>flattened_hashtags</th>\n",
       "    </tr>\n",
       "  </thead>\n",
       "  <tbody>\n",
       "    <tr>\n",
       "      <th>0</th>\n",
       "      <td>RT @nikitheblogger: Irre: Annalena Baerbock sa...</td>\n",
       "      <td>[]</td>\n",
       "      <td>#Deutschen</td>\n",
       "    </tr>\n",
       "    <tr>\n",
       "      <th>1</th>\n",
       "      <td>RT @sagt_mit: Merkel schaffte es in 1 Jahr 1 M...</td>\n",
       "      <td>[]</td>\n",
       "      <td>#Spritpreisen</td>\n",
       "    </tr>\n",
       "    <tr>\n",
       "      <th>2</th>\n",
       "      <td>RT @Kryptonoun: @WRi007 Pharma in Lebensmittel...</td>\n",
       "      <td>[]</td>\n",
       "      <td>#inflation</td>\n",
       "    </tr>\n",
       "    <tr>\n",
       "      <th>3</th>\n",
       "      <td>RT @WRi007: Die #Deutschen sind ein braves Vol...</td>\n",
       "      <td>[#Deutschen, #Spritpreisen, #inflation, #Abgaben]</td>\n",
       "      <td>#Abgaben</td>\n",
       "    </tr>\n",
       "    <tr>\n",
       "      <th>4</th>\n",
       "      <td>RT @RolandTichy: Baerbock verkündet mal so neb...</td>\n",
       "      <td>[]</td>\n",
       "      <td>#Baerbock</td>\n",
       "    </tr>\n",
       "    <tr>\n",
       "      <th>...</th>\n",
       "      <td>...</td>\n",
       "      <td>...</td>\n",
       "      <td>...</td>\n",
       "    </tr>\n",
       "    <tr>\n",
       "      <th>24620</th>\n",
       "      <td>RT @waglenikhil: आपल्या घरातल्या कोणत्याही कार...</td>\n",
       "      <td>[]</td>\n",
       "      <td>NaN</td>\n",
       "    </tr>\n",
       "    <tr>\n",
       "      <th>24621</th>\n",
       "      <td>RT @yadavtejashwi: चौहरमल नगर, फुलवारी शरीफ मे...</td>\n",
       "      <td>[]</td>\n",
       "      <td>NaN</td>\n",
       "    </tr>\n",
       "    <tr>\n",
       "      <th>24622</th>\n",
       "      <td>RT @Parthtiwari25: Gujarat Congress MLA arrest...</td>\n",
       "      <td>[]</td>\n",
       "      <td>NaN</td>\n",
       "    </tr>\n",
       "    <tr>\n",
       "      <th>24623</th>\n",
       "      <td>RT @news24tvchannel: CM नीतीश कुमार ने तेजस्वी...</td>\n",
       "      <td>[]</td>\n",
       "      <td>NaN</td>\n",
       "    </tr>\n",
       "    <tr>\n",
       "      <th>24624</th>\n",
       "      <td>RT @suvegrathi: भगवान और खुदा आपस में बात कर र...</td>\n",
       "      <td>[#IndiaAgainst]</td>\n",
       "      <td>NaN</td>\n",
       "    </tr>\n",
       "  </tbody>\n",
       "</table>\n",
       "<p>24625 rows × 3 columns</p>\n",
       "</div>"
      ],
      "text/plain": [
       "                                           original_text  \\\n",
       "0      RT @nikitheblogger: Irre: Annalena Baerbock sa...   \n",
       "1      RT @sagt_mit: Merkel schaffte es in 1 Jahr 1 M...   \n",
       "2      RT @Kryptonoun: @WRi007 Pharma in Lebensmittel...   \n",
       "3      RT @WRi007: Die #Deutschen sind ein braves Vol...   \n",
       "4      RT @RolandTichy: Baerbock verkündet mal so neb...   \n",
       "...                                                  ...   \n",
       "24620  RT @waglenikhil: आपल्या घरातल्या कोणत्याही कार...   \n",
       "24621  RT @yadavtejashwi: चौहरमल नगर, फुलवारी शरीफ मे...   \n",
       "24622  RT @Parthtiwari25: Gujarat Congress MLA arrest...   \n",
       "24623  RT @news24tvchannel: CM नीतीश कुमार ने तेजस्वी...   \n",
       "24624  RT @suvegrathi: भगवान और खुदा आपस में बात कर र...   \n",
       "\n",
       "                                                hashtags flattened_hashtags  \n",
       "0                                                     []         #Deutschen  \n",
       "1                                                     []      #Spritpreisen  \n",
       "2                                                     []         #inflation  \n",
       "3      [#Deutschen, #Spritpreisen, #inflation, #Abgaben]           #Abgaben  \n",
       "4                                                     []          #Baerbock  \n",
       "...                                                  ...                ...  \n",
       "24620                                                 []                NaN  \n",
       "24621                                                 []                NaN  \n",
       "24622                                                 []                NaN  \n",
       "24623                                                 []                NaN  \n",
       "24624                                    [#IndiaAgainst]                NaN  \n",
       "\n",
       "[24625 rows x 3 columns]"
      ]
     },
     "execution_count": 37,
     "metadata": {},
     "output_type": "execute_result"
    }
   ],
   "source": [
    "tweets_df"
   ]
  },
  {
   "cell_type": "code",
   "execution_count": 38,
   "metadata": {
    "colab": {
     "base_uri": "https://localhost:8080/",
     "height": 434
    },
    "id": "pwwwaYzVS0p1",
    "outputId": "ac6ecba1-9cd0-43d3-c30d-b48e8862e1f1"
   },
   "outputs": [
    {
     "data": {
      "text/plain": [
       "<AxesSubplot:>"
      ]
     },
     "execution_count": 38,
     "metadata": {},
     "output_type": "execute_result"
    },
    {
     "data": {
      "image/png": "[encoded data removed]",
      "text/plain": [
       "<Figure size 432x288 with 1 Axes>"
      ]
     },
     "metadata": {
      "needs_background": "light"
     },
     "output_type": "display_data"
    }
   ],
   "source": [
    "# To plot Top 20 Hashtags\n",
    "tweets_df['flattened_hashtags'].value_counts()[:20].plot(kind='bar')\n"
   ]
  },
  {
   "cell_type": "code",
   "execution_count": 45,
   "metadata": {},
   "outputs": [
    {
     "data": {
      "text/plain": [
       "Index(['created_at', 'source', 'original_text', 'lang', 'favorite_count',\n",
       "       'retweet_count', 'original_author', 'followers_count', 'friends_count',\n",
       "       'possibly_sensitive', 'hashtags', 'user_mentions', 'place'],\n",
       "      dtype='object')"
      ]
     },
     "execution_count": 45,
     "metadata": {},
     "output_type": "execute_result"
    }
   ],
   "source": [
    "tweets.columns"
   ]
  },
  {
   "cell_type": "code",
   "execution_count": 46,
   "metadata": {
    "id": "NSKvgdJaYm4j"
   },
   "outputs": [],
   "source": [
    "#ploting Tweets by language \n",
    "tweets_text = pd.DataFrame(columns=['text','lang'])\n",
    "\n",
    "tweets_text['text'] =  tweets['original_text'].to_list()\n",
    "tweets_text['lang'] = tweets['lang'].to_list()\n",
    "\n",
    "tweets_by_lang = tweets['lang'].value_counts()"
   ]
  },
  {
   "cell_type": "code",
   "execution_count": 47,
   "metadata": {
    "colab": {
     "base_uri": "https://localhost:8080/",
     "height": 313
    },
    "id": "QhYpF1QKZj6f",
    "outputId": "57127454-8479-4910-a4fe-e1d863456b6a"
   },
   "outputs": [
    {
     "data": {
      "text/plain": [
       "<AxesSubplot:title={'center':'Top 5 languages'}, xlabel='Languages', ylabel='Number of tweets'>"
      ]
     },
     "execution_count": 47,
     "metadata": {},
     "output_type": "execute_result"
    },
    {
     "data": {
      "image/png": "[encoded data removed]",
      "text/plain": [
       "<Figure size 432x288 with 1 Axes>"
      ]
     },
     "metadata": {
      "needs_background": "light"
     },
     "output_type": "display_data"
    }
   ],
   "source": [
    "fig, ax = plt.subplots()\n",
    "ax.tick_params(axis='x', labelsize=10)\n",
    "ax.tick_params(axis='y', labelsize=10)\n",
    "ax.set_xlabel('Languages', fontsize=10)\n",
    "ax.set_ylabel('Number of tweets' , fontsize=10)\n",
    "ax.set_title('Top 5 languages', fontsize=10)\n",
    "tweets_by_lang[:5].plot(ax=ax, kind='bar', color='orange')"
   ]
  },
  {
   "cell_type": "code",
   "execution_count": 49,
   "metadata": {
    "id": "Zd3sP3z8bfdC"
   },
   "outputs": [],
   "source": [
    "#from Our Language analysis we can see there are differnt languages we can select only tweets with english \n",
    "English_tweets = tweets.loc[tweets['lang'] ==\"en\"]"
   ]
  },
  {
   "cell_type": "code",
   "execution_count": 50,
   "metadata": {
    "colab": {
     "base_uri": "https://localhost:8080/",
     "height": 504
    },
    "id": "OE-S59Y3kNnt",
    "outputId": "21e20d30-54a8-4f09-cf16-1e55b7830777"
   },
   "outputs": [
    {
     "data": {
      "text/html": [
       "<div>\n",
       "<style scoped>\n",
       "    .dataframe tbody tr th:only-of-type {\n",
       "        vertical-align: middle;\n",
       "    }\n",
       "\n",
       "    .dataframe tbody tr th {\n",
       "        vertical-align: top;\n",
       "    }\n",
       "\n",
       "    .dataframe thead th {\n",
       "        text-align: right;\n",
       "    }\n",
       "</style>\n",
       "<table border=\"1\" class=\"dataframe\">\n",
       "  <thead>\n",
       "    <tr style=\"text-align: right;\">\n",
       "      <th></th>\n",
       "      <th>created_at</th>\n",
       "      <th>source</th>\n",
       "      <th>original_text</th>\n",
       "      <th>lang</th>\n",
       "      <th>favorite_count</th>\n",
       "      <th>retweet_count</th>\n",
       "      <th>original_author</th>\n",
       "      <th>followers_count</th>\n",
       "      <th>friends_count</th>\n",
       "      <th>possibly_sensitive</th>\n",
       "      <th>hashtags</th>\n",
       "      <th>user_mentions</th>\n",
       "      <th>place</th>\n",
       "    </tr>\n",
       "  </thead>\n",
       "  <tbody>\n",
       "    <tr>\n",
       "      <th>38</th>\n",
       "      <td>Fri Apr 22 22:17:05 +0000 2022</td>\n",
       "      <td>&lt;a href=\"http://twitter.com/download/android\" ...</td>\n",
       "      <td>RT @NorthstarCharts: The 10-year yield is tell...</td>\n",
       "      <td>en</td>\n",
       "      <td>188</td>\n",
       "      <td>43</td>\n",
       "      <td>davideiacovozzi</td>\n",
       "      <td>18</td>\n",
       "      <td>55</td>\n",
       "      <td>None</td>\n",
       "      <td>[{'text': 'gold', 'indices': [116, 121]}, {'te...</td>\n",
       "      <td>NorthstarCharts</td>\n",
       "      <td></td>\n",
       "    </tr>\n",
       "    <tr>\n",
       "      <th>39</th>\n",
       "      <td>Fri Apr 22 13:44:53 +0000 2022</td>\n",
       "      <td>&lt;a href=\"http://twitter.com/download/android\" ...</td>\n",
       "      <td>RT @MichaelAArouet: German 10y mortgage rate w...</td>\n",
       "      <td>en</td>\n",
       "      <td>179</td>\n",
       "      <td>32</td>\n",
       "      <td>davideiacovozzi</td>\n",
       "      <td>18</td>\n",
       "      <td>55</td>\n",
       "      <td>None</td>\n",
       "      <td>[]</td>\n",
       "      <td>MichaelAArouet</td>\n",
       "      <td></td>\n",
       "    </tr>\n",
       "    <tr>\n",
       "      <th>41</th>\n",
       "      <td>Fri Apr 22 06:10:34 +0000 2022</td>\n",
       "      <td>&lt;a href=\"http://twitter.com/download/android\" ...</td>\n",
       "      <td>RT @goldseek: When? https://t.co/kO2FfHKaZg</td>\n",
       "      <td>en</td>\n",
       "      <td>193</td>\n",
       "      <td>26</td>\n",
       "      <td>davideiacovozzi</td>\n",
       "      <td>18</td>\n",
       "      <td>55</td>\n",
       "      <td>False</td>\n",
       "      <td>[]</td>\n",
       "      <td>goldseek</td>\n",
       "      <td></td>\n",
       "    </tr>\n",
       "    <tr>\n",
       "      <th>42</th>\n",
       "      <td>Thu Apr 21 17:22:09 +0000 2022</td>\n",
       "      <td>&lt;a href=\"http://twitter.com/download/android\" ...</td>\n",
       "      <td>RT @charliebilello: The 30-year mortgage rate ...</td>\n",
       "      <td>en</td>\n",
       "      <td>620</td>\n",
       "      <td>213</td>\n",
       "      <td>davideiacovozzi</td>\n",
       "      <td>18</td>\n",
       "      <td>55</td>\n",
       "      <td>None</td>\n",
       "      <td>[]</td>\n",
       "      <td>charliebilello</td>\n",
       "      <td></td>\n",
       "    </tr>\n",
       "    <tr>\n",
       "      <th>43</th>\n",
       "      <td>Thu Apr 21 10:32:26 +0000 2022</td>\n",
       "      <td>&lt;a href=\"http://twitter.com/download/android\" ...</td>\n",
       "      <td>RT @biancoresearch: Rates rise until something...</td>\n",
       "      <td>en</td>\n",
       "      <td>1787</td>\n",
       "      <td>417</td>\n",
       "      <td>davideiacovozzi</td>\n",
       "      <td>18</td>\n",
       "      <td>55</td>\n",
       "      <td>False</td>\n",
       "      <td>[]</td>\n",
       "      <td>biancoresearch</td>\n",
       "      <td></td>\n",
       "    </tr>\n",
       "    <tr>\n",
       "      <th>...</th>\n",
       "      <td>...</td>\n",
       "      <td>...</td>\n",
       "      <td>...</td>\n",
       "      <td>...</td>\n",
       "      <td>...</td>\n",
       "      <td>...</td>\n",
       "      <td>...</td>\n",
       "      <td>...</td>\n",
       "      <td>...</td>\n",
       "      <td>...</td>\n",
       "      <td>...</td>\n",
       "      <td>...</td>\n",
       "      <td>...</td>\n",
       "    </tr>\n",
       "    <tr>\n",
       "      <th>24584</th>\n",
       "      <td>Fri Apr 22 15:22:56 +0000 2022</td>\n",
       "      <td>&lt;a href=\"http://twitter.com/download/iphone\" r...</td>\n",
       "      <td>RT @CHARANJITCHANNI: Best wishes &amp;amp; heartfe...</td>\n",
       "      <td>en</td>\n",
       "      <td>2924</td>\n",
       "      <td>300</td>\n",
       "      <td>kitukalesatya</td>\n",
       "      <td>706</td>\n",
       "      <td>643</td>\n",
       "      <td>None</td>\n",
       "      <td>[]</td>\n",
       "      <td>CHARANJITCHANNI, RajaBrar_INC, BB__Ashu</td>\n",
       "      <td></td>\n",
       "    </tr>\n",
       "    <tr>\n",
       "      <th>24586</th>\n",
       "      <td>Fri Apr 22 15:22:29 +0000 2022</td>\n",
       "      <td>&lt;a href=\"http://twitter.com/download/iphone\" r...</td>\n",
       "      <td>RT @pbhushan1: Thank you @BajpayeeManoj for th...</td>\n",
       "      <td>en</td>\n",
       "      <td>14671</td>\n",
       "      <td>5006</td>\n",
       "      <td>kitukalesatya</td>\n",
       "      <td>706</td>\n",
       "      <td>643</td>\n",
       "      <td>None</td>\n",
       "      <td>[]</td>\n",
       "      <td>pbhushan1, BajpayeeManoj</td>\n",
       "      <td></td>\n",
       "    </tr>\n",
       "    <tr>\n",
       "      <th>24596</th>\n",
       "      <td>Fri Apr 22 15:01:27 +0000 2022</td>\n",
       "      <td>&lt;a href=\"http://twitter.com/download/iphone\" r...</td>\n",
       "      <td>RT @s_shreyatweets: Agree ?👇 https://t.co/R54Z...</td>\n",
       "      <td>en</td>\n",
       "      <td>5056</td>\n",
       "      <td>973</td>\n",
       "      <td>kitukalesatya</td>\n",
       "      <td>706</td>\n",
       "      <td>643</td>\n",
       "      <td>False</td>\n",
       "      <td>[]</td>\n",
       "      <td>s_shreyatweets</td>\n",
       "      <td></td>\n",
       "    </tr>\n",
       "    <tr>\n",
       "      <th>24599</th>\n",
       "      <td>Fri Apr 22 14:58:12 +0000 2022</td>\n",
       "      <td>&lt;a href=\"http://twitter.com/download/iphone\" r...</td>\n",
       "      <td>RT @tejjINC: 1. Peace Yatra by Late Sunil Dutt...</td>\n",
       "      <td>en</td>\n",
       "      <td>636</td>\n",
       "      <td>115</td>\n",
       "      <td>kitukalesatya</td>\n",
       "      <td>706</td>\n",
       "      <td>643</td>\n",
       "      <td>False</td>\n",
       "      <td>[]</td>\n",
       "      <td>tejjINC</td>\n",
       "      <td></td>\n",
       "    </tr>\n",
       "    <tr>\n",
       "      <th>24622</th>\n",
       "      <td>Fri Apr 22 14:44:35 +0000 2022</td>\n",
       "      <td>&lt;a href=\"http://twitter.com/download/iphone\" r...</td>\n",
       "      <td>RT @Parthtiwari25: Gujarat Congress MLA arrest...</td>\n",
       "      <td>en</td>\n",
       "      <td>1025</td>\n",
       "      <td>203</td>\n",
       "      <td>kitukalesatya</td>\n",
       "      <td>706</td>\n",
       "      <td>643</td>\n",
       "      <td>None</td>\n",
       "      <td>[]</td>\n",
       "      <td>Parthtiwari25</td>\n",
       "      <td></td>\n",
       "    </tr>\n",
       "  </tbody>\n",
       "</table>\n",
       "<p>16472 rows × 13 columns</p>\n",
       "</div>"
      ],
      "text/plain": [
       "                           created_at  \\\n",
       "38     Fri Apr 22 22:17:05 +0000 2022   \n",
       "39     Fri Apr 22 13:44:53 +0000 2022   \n",
       "41     Fri Apr 22 06:10:34 +0000 2022   \n",
       "42     Thu Apr 21 17:22:09 +0000 2022   \n",
       "43     Thu Apr 21 10:32:26 +0000 2022   \n",
       "...                               ...   \n",
       "24584  Fri Apr 22 15:22:56 +0000 2022   \n",
       "24586  Fri Apr 22 15:22:29 +0000 2022   \n",
       "24596  Fri Apr 22 15:01:27 +0000 2022   \n",
       "24599  Fri Apr 22 14:58:12 +0000 2022   \n",
       "24622  Fri Apr 22 14:44:35 +0000 2022   \n",
       "\n",
       "                                                  source  \\\n",
       "38     <a href=\"http://twitter.com/download/android\" ...   \n",
       "39     <a href=\"http://twitter.com/download/android\" ...   \n",
       "41     <a href=\"http://twitter.com/download/android\" ...   \n",
       "42     <a href=\"http://twitter.com/download/android\" ...   \n",
       "43     <a href=\"http://twitter.com/download/android\" ...   \n",
       "...                                                  ...   \n",
       "24584  <a href=\"http://twitter.com/download/iphone\" r...   \n",
       "24586  <a href=\"http://twitter.com/download/iphone\" r...   \n",
       "24596  <a href=\"http://twitter.com/download/iphone\" r...   \n",
       "24599  <a href=\"http://twitter.com/download/iphone\" r...   \n",
       "24622  <a href=\"http://twitter.com/download/iphone\" r...   \n",
       "\n",
       "                                           original_text lang  favorite_count  \\\n",
       "38     RT @NorthstarCharts: The 10-year yield is tell...   en             188   \n",
       "39     RT @MichaelAArouet: German 10y mortgage rate w...   en             179   \n",
       "41           RT @goldseek: When? https://t.co/kO2FfHKaZg   en             193   \n",
       "42     RT @charliebilello: The 30-year mortgage rate ...   en             620   \n",
       "43     RT @biancoresearch: Rates rise until something...   en            1787   \n",
       "...                                                  ...  ...             ...   \n",
       "24584  RT @CHARANJITCHANNI: Best wishes &amp; heartfe...   en            2924   \n",
       "24586  RT @pbhushan1: Thank you @BajpayeeManoj for th...   en           14671   \n",
       "24596  RT @s_shreyatweets: Agree ?👇 https://t.co/R54Z...   en            5056   \n",
       "24599  RT @tejjINC: 1. Peace Yatra by Late Sunil Dutt...   en             636   \n",
       "24622  RT @Parthtiwari25: Gujarat Congress MLA arrest...   en            1025   \n",
       "\n",
       "       retweet_count  original_author  followers_count  friends_count  \\\n",
       "38                43  davideiacovozzi               18             55   \n",
       "39                32  davideiacovozzi               18             55   \n",
       "41                26  davideiacovozzi               18             55   \n",
       "42               213  davideiacovozzi               18             55   \n",
       "43               417  davideiacovozzi               18             55   \n",
       "...              ...              ...              ...            ...   \n",
       "24584            300    kitukalesatya              706            643   \n",
       "24586           5006    kitukalesatya              706            643   \n",
       "24596            973    kitukalesatya              706            643   \n",
       "24599            115    kitukalesatya              706            643   \n",
       "24622            203    kitukalesatya              706            643   \n",
       "\n",
       "      possibly_sensitive                                           hashtags  \\\n",
       "38                  None  [{'text': 'gold', 'indices': [116, 121]}, {'te...   \n",
       "39                  None                                                 []   \n",
       "41                 False                                                 []   \n",
       "42                  None                                                 []   \n",
       "43                 False                                                 []   \n",
       "...                  ...                                                ...   \n",
       "24584               None                                                 []   \n",
       "24586               None                                                 []   \n",
       "24596              False                                                 []   \n",
       "24599              False                                                 []   \n",
       "24622               None                                                 []   \n",
       "\n",
       "                                 user_mentions place  \n",
       "38                             NorthstarCharts        \n",
       "39                              MichaelAArouet        \n",
       "41                                    goldseek        \n",
       "42                              charliebilello        \n",
       "43                              biancoresearch        \n",
       "...                                        ...   ...  \n",
       "24584  CHARANJITCHANNI, RajaBrar_INC, BB__Ashu        \n",
       "24586                 pbhushan1, BajpayeeManoj        \n",
       "24596                           s_shreyatweets        \n",
       "24599                                  tejjINC        \n",
       "24622                            Parthtiwari25        \n",
       "\n",
       "[16472 rows x 13 columns]"
      ]
     },
     "execution_count": 50,
     "metadata": {},
     "output_type": "execute_result"
    }
   ],
   "source": [
    "English_tweets"
   ]
  },
  {
   "cell_type": "code",
   "execution_count": 52,
   "metadata": {
    "id": "jB-vGg6PW_Au"
   },
   "outputs": [],
   "source": [
    "#text Preprocessing\n",
    "English_tweets['clean_text']=English_tweets['original_text'].astype(str)\n",
    "English_tweets['clean_text'] = English_tweets['clean_text'].apply(lambda x: x.lower())\n",
    "English_tweets['clean_text']= English_tweets['clean_text'].apply(lambda x: x.translate(str.maketrans(' ', ' ', string.punctuation)))\n"
   ]
  },
  {
   "cell_type": "code",
   "execution_count": 53,
   "metadata": {
    "colab": {
     "base_uri": "https://localhost:8080/"
    },
    "id": "RXN-W1nY_6Gn",
    "outputId": "a4c5e4f7-5b4f-4f52-8845-32fbfa9c8a33"
   },
   "outputs": [
    {
     "data": {
      "text/plain": [
       "[['rt',\n",
       "  'northstarcharts',\n",
       "  'the',\n",
       "  '10year',\n",
       "  'yield',\n",
       "  'is',\n",
       "  'telling',\n",
       "  'us',\n",
       "  'that',\n",
       "  'theres',\n",
       "  'a',\n",
       "  'high',\n",
       "  'risk',\n",
       "  'of',\n",
       "  'something',\n",
       "  'breaking',\n",
       "  'in',\n",
       "  'the',\n",
       "  'system',\n",
       "  'gold',\n",
       "  'silver',\n",
       "  'crypto',\n",
       "  '…'],\n",
       " ['rt',\n",
       "  'michaelaarouet',\n",
       "  'german',\n",
       "  '10y',\n",
       "  'mortgage',\n",
       "  'rate',\n",
       "  'went',\n",
       "  'from',\n",
       "  '08',\n",
       "  'to',\n",
       "  '250',\n",
       "  '👇',\n",
       "  'can',\n",
       "  'you',\n",
       "  'hear',\n",
       "  'the',\n",
       "  'sound',\n",
       "  'of',\n",
       "  'german',\n",
       "  'real',\n",
       "  'estate',\n",
       "  'bubble',\n",
       "  'bursting',\n",
       "  'https…']]"
      ]
     },
     "execution_count": 53,
     "metadata": {},
     "output_type": "execute_result"
    }
   ],
   "source": [
    "#Converting tweets to list of words For feature engineering\n",
    "sentence_list = [tweet for tweet in English_tweets['clean_text']]\n",
    "word_list = [sent.split() for sent in sentence_list]\n",
    "\n",
    "word_list[:2]\n"
   ]
  }
 ],
 "metadata": {
  "colab": {
   "collapsed_sections": [],
   "name": "EDA-Twitter.ipynb",
   "provenance": []
  },
  "kernelspec": {
   "display_name": "Python 3",
   "language": "python",
   "name": "python3"
  },
  "language_info": {
   "codemirror_mode": {
    "name": "ipython",
    "version": 3
   },
   "file_extension": ".py",
   "mimetype": "text/x-python",
   "name": "python",
   "nbconvert_exporter": "python",
   "pygments_lexer": "ipython3",
   "version": "3.8.8"
  }
 },
 "nbformat": 4,
 "nbformat_minor": 1
}
